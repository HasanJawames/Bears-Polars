{
  "nbformat": 4,
  "nbformat_minor": 0,
  "metadata": {
    "colab": {
      "provenance": [],
      "include_colab_link": true
    },
    "kernelspec": {
      "name": "python3",
      "display_name": "Python 3"
    },
    "language_info": {
      "name": "python"
    },
    "accelerator": "GPU",
    "gpuClass": "standard"
  },
  "cells": [
    {
      "cell_type": "markdown",
      "metadata": {
        "id": "view-in-github",
        "colab_type": "text"
      },
      "source": [
        "<a href=\"https://colab.research.google.com/github/HasanJawames/Bears-Polars/blob/main/Copy_of_yolov5ComputerVision.ipynb\" target=\"_parent\"><img src=\"https://colab.research.google.com/assets/colab-badge.svg\" alt=\"Open In Colab\"/></a>"
      ]
    },
    {
      "cell_type": "code",
      "execution_count": null,
      "metadata": {
        "id": "xv_LnDSn6H1m"
      },
      "outputs": [],
      "source": [
        "# select the YOLOv5 version\n",
        "# VERSION = \"v6.1\"\n",
        "VERSION = \"v6.0\"\n",
        "#VERSION = \"v5.0\"\n",
        "\n",
        "# create the model & config file exporting folder\n",
        "%mkdir /content/exported_files\n",
        "INFO_FILE = \"/content/exported_files/info.txt\"\n",
        "!touch $INFO_FILE\n",
        "!echo \"YOLOv5 version:\" $VERSION >> $INFO_FILE"
      ]
    },
    {
      "cell_type": "code",
      "source": [
        "# clone YOLOv5 repository\n",
        "%cd /content\n",
        "!echo \"git clone https://github.com/ultralytics/yolov5\" # check the cloning script\n",
        "!git clone https://github.com/ultralytics/yolov5  # clone repo\n",
        "%cd /content/yolov5\n",
        "!git log -n 1 # check the latest commit"
      ],
      "metadata": {
        "id": "W2zdXEpQ6LOH"
      },
      "execution_count": null,
      "outputs": []
    },
    {
      "cell_type": "code",
      "source": [
        "%cd /content/yolov5\n",
        "\n",
        "# install dependencies as necessary\n",
        "!pip install -qr requirements.txt  # install dependencies (ignore errors)\n",
        "!pip install -q roboflow\n",
        "import torch\n",
        "\n",
        "from IPython.display import Image, clear_output  # to display images\n",
        "\n",
        "# clear_output()\n",
        "print('Setup complete. Using torch %s %s' % (torch.__version__, torch.cuda.get_device_properties(0) if torch.cuda.is_available() else 'CPU'))"
      ],
      "metadata": {
        "id": "TmQYFKPl6LT6"
      },
      "execution_count": null,
      "outputs": []
    },
    {
      "cell_type": "markdown",
      "source": [
        "#Download Correctly Formatted Custom Dataset"
      ],
      "metadata": {
        "id": "XpDomZ7p6v8p"
      }
    },
    {
      "cell_type": "code",
      "source": [
        "%cd /content/yolov5\n",
        "\n",
        "!pip install roboflow\n",
        "\n",
        "from roboflow import Roboflow\n",
        "rf = Roboflow(api_key=\"BkP2lQAHb7P9RP83uyly\")\n",
        "project = rf.workspace(\"tel-hai-college\").project(\"bears-kind\")\n",
        "dataset = project.version(2).download(\"yolov5\")"
      ],
      "metadata": {
        "id": "2mJXd-B56LYb"
      },
      "execution_count": null,
      "outputs": []
    },
    {
      "cell_type": "code",
      "source": [
        "# this is the YAML file Roboflow wrote for us that we're loading into this notebook with our data\n",
        "%cat {dataset.location}/data.yaml"
      ],
      "metadata": {
        "id": "UcJGgZnH6LbE"
      },
      "execution_count": null,
      "outputs": []
    },
    {
      "cell_type": "code",
      "source": [
        "# define the epoch number, image size & prefered model file for training\n",
        "EPOCHS = 20\n",
        "IMG_SIZE = 500\n",
        "MODEL = \"yolov5s.pt\"\n",
        "MODEL_CONF = \"/content/yolov5/models/yolov5s.yaml\"\n",
        "\n",
        "!echo \"Epoch:\" $EPOCHS >> $INFO_FILE\n",
        "!echo \"Image size:\" $IMG_SIZE >> $INFO_FILE\n",
        "!echo \"Base model:\" $MODEL >> $INFO_FILE\n",
        "!echo \"Base model config file:\" $MODEL_CONF >> $INFO_FILE"
      ],
      "metadata": {
        "id": "3KvVzYg76Ldg"
      },
      "execution_count": null,
      "outputs": []
    },
    {
      "cell_type": "markdown",
      "source": [
        "#Define Model Configuration and Architecture"
      ],
      "metadata": {
        "id": "eZ7l43-A7It4"
      }
    },
    {
      "cell_type": "code",
      "source": [
        "#this is the model configuration we will use for our tutorial\n",
        "%cat $MODEL_CONF"
      ],
      "metadata": {
        "id": "m3SFo77A6Lf2"
      },
      "execution_count": null,
      "outputs": []
    },
    {
      "cell_type": "code",
      "source": [
        "# copy the custom YAML file\n",
        "%cp $MODEL_CONF /content/yolov5/models/custom_model.yaml\n",
        "\n",
        "\n",
        "# define number of classes based on YAML\n",
        "import yaml\n",
        "with open(dataset.location + \"/data.yaml\", 'r') as stream:\n",
        "    num_classes = str(yaml.safe_load(stream)['nc'])"
      ],
      "metadata": {
        "id": "9lo1cSHH6LiY"
      },
      "execution_count": null,
      "outputs": []
    },
    {
      "cell_type": "code",
      "source": [
        "\n",
        "with open('/content/yolov5/models/custom_model.yaml' , 'r') as f:\n",
        "\n",
        "    #read file\n",
        "    file_source = f.read()\n",
        "\n",
        "    #replace 'nc:' with the num_classes in the file\n",
        "    new_string = 'nc: '+str(num_classes)+' #'\n",
        "    replace_string = file_source.replace('nc:', new_string)\n",
        "\n",
        "with open('/content/yolov5/models/custom_model.yaml', 'w') as f:\n",
        "    #save output\n",
        "    f.write(replace_string)\n",
        "\n",
        "%cat /content/yolov5/models/custom_model.yaml"
      ],
      "metadata": {
        "id": "43d0V1dU6Lk0"
      },
      "execution_count": null,
      "outputs": []
    },
    {
      "cell_type": "code",
      "source": [
        "# copy the config file to the \"exported_files\" folder\n",
        "%cp /content/yolov5/models/custom_model.yaml /content/exported_files\n",
        "%cp {dataset.location}/data.yaml /content/exported_files"
      ],
      "metadata": {
        "id": "-_ENH1207SFb"
      },
      "execution_count": null,
      "outputs": []
    },
    {
      "cell_type": "markdown",
      "source": [
        "#Train Custom YOLOv5 Detector"
      ],
      "metadata": {
        "id": "0yfkeD_Hihp6"
      }
    },
    {
      "cell_type": "code",
      "source": [
        "# train the \"MODEL\" on custom data for \"EPOCHS\" epochs\n",
        "# you can increase-decrease the batch size\n",
        "# time its performance\n",
        "%%time\n",
        "%cd /content/yolov5/\n",
        "\n",
        "# !python train.py --img $IMG_SIZE --batch 16 --epochs $EPOCHS --data {dataset.location}/data.yaml --cfg ./models/custom_model.yaml --weights $MODEL --name yolov5_results  --cache\n",
        "\n",
        "!python train.py --img 640 --batch 16 --epochs $EPOCHS --data {dataset.location}/data.yaml --weights yolov5s.pt --name yolov5_result --cache\n",
        "\n",
        "# copy the best model to the \"exported_files\" folder\n",
        "%cp /content/yolov5/runs/train/yolov5_results/weights/best.pt /content/exported_files"
      ],
      "metadata": {
        "id": "ZzXt35ncir-Y"
      },
      "execution_count": null,
      "outputs": []
    },
    {
      "cell_type": "markdown",
      "source": [
        "#Evaluate Custom YOLOv5 Detector Performance"
      ],
      "metadata": {
        "id": "Jf3FQAfbit0-"
      }
    },
    {
      "cell_type": "code",
      "source": [
        "# Start tensorboard\n",
        "# Launch after you have started training\n",
        "# logs save in the folder \"runs\"\n",
        "%load_ext tensorboard\n",
        "%tensorboard --logdir runs"
      ],
      "metadata": {
        "id": "tYxtjmEdisuB"
      },
      "execution_count": null,
      "outputs": []
    },
    {
      "cell_type": "code",
      "source": [
        "# we can also output some older school graphs if the tensor board isn't working for whatever reason...\n",
        "%cd /content/yolov5/\n",
        "from utils.plots import plot_results  # plot results.txt as results.png\n",
        "Image(filename='/content/yolov5/runs/train/yolov5_result/results.png', width=1000)  # view results.png"
      ],
      "metadata": {
        "id": "mkncTdRqi1xi"
      },
      "execution_count": null,
      "outputs": []
    },
    {
      "cell_type": "markdown",
      "source": [
        "#Visualize Our Training Data with Labels"
      ],
      "metadata": {
        "id": "eHamL6Vfi2ll"
      }
    },
    {
      "cell_type": "code",
      "source": [
        "# first, display our ground truth data\n",
        "print(\"GROUND TRUTH TRAINING DATA:\")\n",
        "\n",
        "import glob\n",
        "from IPython.display import Image, display\n",
        "\n",
        "for imageName in glob.glob('/content/yolov5/runs/train/yolov5_results/*_batch0_labels.jpg'): #assuming JPG\n",
        "    display(Image(filename=imageName, width=900))\n",
        "    break"
      ],
      "metadata": {
        "id": "O78Ojijbi70-"
      },
      "execution_count": null,
      "outputs": []
    },
    {
      "cell_type": "code",
      "source": [
        "# print out an augmented training example\n",
        "print(\"GROUND TRUTH AUGMENTED TRAINING DATA:\")\n",
        "Image(filename='/content/yolov5/runs/train/yolov5_result/train_batch0.jpg', width=900)"
      ],
      "metadata": {
        "id": "QBY7_M3ni9yp"
      },
      "execution_count": null,
      "outputs": []
    },
    {
      "cell_type": "code",
      "source": [
        "# trained weights are saved by default in our weights folder\n",
        "%ls runs/"
      ],
      "metadata": {
        "id": "90HTnpXki_GV"
      },
      "execution_count": null,
      "outputs": []
    },
    {
      "cell_type": "code",
      "source": [
        "%ls /content/yolov5/runs/train/yolov5_result/weights"
      ],
      "metadata": {
        "id": "c4J5Fn1FjAFx"
      },
      "execution_count": null,
      "outputs": []
    },
    {
      "cell_type": "code",
      "source": [
        "%cd /content/yolov5/\n",
        "!python detect.py --weights /content/yolov5/runs/train/yolov5_result/weights/best.pt --img $IMG_SIZE --conf 0.4 --source {dataset.location}/test/images"
      ],
      "metadata": {
        "id": "3WcsW17RjBCt"
      },
      "execution_count": null,
      "outputs": []
    },
    {
      "cell_type": "code",
      "source": [
        "#display inference on ALL test images\n",
        "#this looks much better with longer training above\n",
        "\n",
        "import glob\n",
        "from IPython.display import Image, display\n",
        "\n",
        "for imageName in glob.glob('/content/yolov5/runs/detect/exp/*.jpg'): #assuming JPG\n",
        "    display(Image(filename=imageName))\n",
        "    print(\"\\n\")"
      ],
      "metadata": {
        "id": "LblJ_TxjjCF2"
      },
      "execution_count": null,
      "outputs": []
    }
  ]
}